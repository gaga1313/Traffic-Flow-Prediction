{
  "nbformat": 4,
  "nbformat_minor": 0,
  "metadata": {
    "colab": {
      "name": "TrafficFlowPrediction.ipynb",
      "provenance": []
    },
    "kernelspec": {
      "name": "python3",
      "display_name": "Python 3"
    },
    "language_info": {
      "name": "python"
    }
  },
  "cells": [
    {
      "cell_type": "code",
      "metadata": {
        "colab": {
          "base_uri": "https://localhost:8080/"
        },
        "id": "LYFrthquVWn4",
        "outputId": "c1aeec0d-3f0a-44b9-a934-a4aec1158015"
      },
      "source": [
        "from google.colab import drive\n",
        "drive.mount('/content/drive')"
      ],
      "execution_count": null,
      "outputs": [
        {
          "output_type": "stream",
          "name": "stdout",
          "text": [
            "Mounted at /content/drive\n"
          ]
        }
      ]
    },
    {
      "cell_type": "code",
      "metadata": {
        "id": "i3Q50s0NVuTB"
      },
      "source": [
        "import pandas as pd\n",
        "import os\n",
        "from tqdm import tqdm\n",
        "import numpy as np\n",
        "import matplotlib.pyplot as plt\n",
        "import seaborn as sns\n",
        "from matplotlib import colors\n",
        "from scipy import stats\n",
        "%matplotlib inline"
      ],
      "execution_count": null,
      "outputs": []
    },
    {
      "cell_type": "code",
      "metadata": {
        "id": "JGcFLZU7ssTE"
      },
      "source": [
        "def assign_congestion(arr , meanval , stdval):\n",
        "  output = []\n",
        "  for ele in arr:\n",
        "    if ele > meanval:\n",
        "      output.append(0)\n",
        "    elif ele>meanval - stdval and ele<=meanval:\n",
        "      output.append(1)\n",
        "    else:\n",
        "      output.append(2)\n",
        "  return output"
      ],
      "execution_count": null,
      "outputs": []
    },
    {
      "cell_type": "markdown",
      "metadata": {
        "id": "Jhg8xkuQVzB8"
      },
      "source": [
        "**Concatinating different files**"
      ]
    },
    {
      "cell_type": "markdown",
      "metadata": {
        "id": "qG9NR18j63N1"
      },
      "source": [
        "**BoxCox**\n",
        "![boxcox.png](data:image/png;base64,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)"
      ]
    },
    {
      "cell_type": "code",
      "metadata": {
        "colab": {
          "base_uri": "https://localhost:8080/"
        },
        "id": "w2pHYvFYVyvg",
        "outputId": "5fde2aef-0f40-4b09-febc-66a0007f92c0"
      },
      "source": [
        "root_dir = '/content/drive/MyDrive/Trafficflow data'\n",
        "df1 = pd.DataFrame()\n",
        "congestion = []\n",
        "for (root, dirs , files) in tqdm(os.walk(root_dir)):\n",
        "  print(root, dirs, files)\n",
        "  for file in files:\n",
        "    df2  = pd.read_excel(os.path.join(root, file))\n",
        "    speed = []\n",
        "    for index , row in df2.iterrows():\n",
        "      speed.append((row['distance(meters)'])/((row['duration_min(minutes)']+row['duration_max(minutes)']) * 30.0))\n",
        "    df2['Speed(m/s)'] = speed\n",
        "    skew = df2['Speed(m/s)'].skew()\n",
        "    print('Skew : {}'.format(skew))\n",
        "    if skew>0.5 :\n",
        "      cbrt = stats.boxcox(df2['Speed(m/s)'])[0]\n",
        "      print('After + transforrm skew : {}'.format(pd.Series(cbrt).skew()))\n",
        "      me =  np.mean(cbrt)\n",
        "      std = np.std(cbrt)\n",
        "      df2['Congestion'] = assign_congestion(cbrt , me , std)  \n",
        "    elif skew<-0.5:\n",
        "      cbrt = df2['Speed(m/s)'].apply(lambda x : np.sqrt(x))\n",
        "      print('After - transform skew : {}'.format(cbrt.skew()))\n",
        "      me =  np.mean(cbrt)\n",
        "      std = np.std(cbrt)\n",
        "      df2['Congestion'] = assign_congestion(cbrt , me , std)  \n",
        "    else:\n",
        "      me =  np.mean(df2['Speed(m/s)'])\n",
        "      std = np.std(df2['Speed(m/s)'])\n",
        "      df2['Congestion'] = assign_congestion(df2['Speed(m/s)'] , me , std)\n",
        "\n",
        "    df1 = pd.concat([df1 , df2])\n"
      ],
      "execution_count": null,
      "outputs": [
        {
          "output_type": "stream",
          "name": "stderr",
          "text": [
            "\r0it [00:00, ?it/s]"
          ]
        },
        {
          "output_type": "stream",
          "name": "stdout",
          "text": [
            "/content/drive/MyDrive/Trafficflow data ['Rajeev', 'Vedant', 'Nishant', 'Gaurav'] []\n",
            "/content/drive/MyDrive/Trafficflow data/Rajeev [] ['4.xlsx', '3.xlsx', '2.xlsx', '1.xlsx', '8.xlsx', '9.xlsx', '5.xlsx', '7.xlsx', '6.xlsx']\n",
            "Skew : 0.47790229928566313\n",
            "Skew : 1.1212207481315144\n",
            "After + transforrm skew : 0.073641722467493\n",
            "Skew : -0.21714417509782774\n",
            "Skew : 1.080138616929716\n",
            "After + transforrm skew : -0.06953255073762084\n",
            "Skew : 0.9188619621087927\n",
            "After + transforrm skew : 0.03624749769445332\n",
            "Skew : 0.18714973235291427\n",
            "Skew : 1.1062727838730315\n",
            "After + transforrm skew : 0.16270276431601172\n",
            "Skew : 0.3432928698568448\n"
          ]
        },
        {
          "output_type": "stream",
          "name": "stderr",
          "text": [
            "\r2it [00:08,  4.31s/it]"
          ]
        },
        {
          "output_type": "stream",
          "name": "stdout",
          "text": [
            "Skew : 0.4976365423185508\n",
            "/content/drive/MyDrive/Trafficflow data/Vedant [] ['24.xlsx', '18.xlsx', '19.xlsx', '21.xlsx', '22.xlsx', '23.xlsx', '25.xlsx', '26.xlsx', '20.xlsx']\n",
            "Skew : 0.6089293660436496\n",
            "After + transforrm skew : 0.03988746424596886\n",
            "Skew : 0.4910665031998798\n",
            "Skew : 0.4131664085963987\n",
            "Skew : -0.6275991370483578\n",
            "After - transform skew : -0.7359471845909423\n",
            "Skew : -0.49702929450637806\n",
            "Skew : -0.20518066662221687\n",
            "Skew : 0\n",
            "Skew : 1.183181518501633\n",
            "After + transforrm skew : -0.0990487088750396\n"
          ]
        },
        {
          "output_type": "stream",
          "name": "stderr",
          "text": [
            "\r3it [00:16,  5.60s/it]"
          ]
        },
        {
          "output_type": "stream",
          "name": "stdout",
          "text": [
            "Skew : 0.15701236669182117\n",
            "/content/drive/MyDrive/Trafficflow data/Nishant [] ['27.xlsx', '28.xlsx', '29.xlsx', '30.xlsx', '31.xlsx', '32.xlsx', '33.xlsx', '34.xlsx']\n",
            "Skew : 0.6904982019452843\n",
            "After + transforrm skew : 0.07162283832546507\n",
            "Skew : 0.7901247731518032\n",
            "After + transforrm skew : 0.16724439847655898\n",
            "Skew : 0.7686403742073188\n",
            "After + transforrm skew : 0.12301183359014489\n",
            "Skew : 0.6081334645180491\n",
            "After + transforrm skew : 0.03376021349871453\n",
            "Skew : 1.0726848515247667\n",
            "After + transforrm skew : 0.16704493142511612\n",
            "Skew : 0.5289342465384573\n",
            "After + transforrm skew : 0.0020121522774670386\n",
            "Skew : 0.9265801679939488\n",
            "After + transforrm skew : -0.003554225173884906\n"
          ]
        },
        {
          "output_type": "stream",
          "name": "stderr",
          "text": [
            "\r4it [00:22,  6.05s/it]"
          ]
        },
        {
          "output_type": "stream",
          "name": "stdout",
          "text": [
            "Skew : 0.6349476738200538\n",
            "After + transforrm skew : 0.044303043719161515\n",
            "/content/drive/MyDrive/Trafficflow data/Gaurav [] ['10.xlsx', '11.xlsx', '12.xlsx', '13.xlsx', '14.xlsx', '15.xlsx', '16.xlsx', '17.xlsx']\n",
            "Skew : 0.6937875499097685\n",
            "After + transforrm skew : -0.003663845227518459\n",
            "Skew : 0.5875963567229677\n",
            "After + transforrm skew : 0.1419617732343865\n",
            "Skew : 0.35801473041465026\n",
            "Skew : 0.5389079389462762\n",
            "After + transforrm skew : 0.0018982619426865905\n",
            "Skew : 0.6845235559578564\n",
            "After + transforrm skew : 0.013545235574539743\n",
            "Skew : 2.2787215757514625\n",
            "After + transforrm skew : -0.5362647426394566\n",
            "Skew : 1.1474993239767135\n",
            "After + transforrm skew : 0.16671683294675366\n"
          ]
        },
        {
          "output_type": "stream",
          "name": "stderr",
          "text": [
            "5it [00:29,  5.89s/it]"
          ]
        },
        {
          "output_type": "stream",
          "name": "stdout",
          "text": [
            "Skew : 0.5267434021003141\n",
            "After + transforrm skew : 0.011661204015193586\n"
          ]
        },
        {
          "output_type": "stream",
          "name": "stderr",
          "text": [
            "\n"
          ]
        }
      ]
    },
    {
      "cell_type": "code",
      "metadata": {
        "colab": {
          "base_uri": "https://localhost:8080/"
        },
        "id": "OeESeZjkNYk1",
        "outputId": "e635c7a3-bff3-4ee8-8e1f-fe4d6480ce4a"
      },
      "source": [
        "root_dir = '/content/drive/MyDrive/Trafficflow data'\n",
        "df1 = pd.DataFrame()\n",
        "congestion = []\n",
        "for (root, dirs , files) in tqdm(os.walk(root_dir)):\n",
        "  print(root, dirs, files)\n",
        "  for file in files:\n",
        "    if file[-3:] == 'csv':\n",
        "      continue\n",
        "    df2  = pd.read_excel(os.path.join(root, file))\n",
        "    print(file)\n",
        "    print(df2.columns)"
      ],
      "execution_count": null,
      "outputs": [
        {
          "output_type": "stream",
          "name": "stderr",
          "text": [
            "\r0it [00:00, ?it/s]"
          ]
        },
        {
          "output_type": "stream",
          "name": "stdout",
          "text": [
            "/content/drive/MyDrive/Trafficflow data ['Rajeev', 'Vedant', 'Nishant', 'Gaurav'] ['dataset.csv']\n",
            "/content/drive/MyDrive/Trafficflow data/Rajeev [] ['4.xlsx', '3.xlsx', '2.xlsx', '1.xlsx', '8.xlsx', '9.xlsx', '5.xlsx', '7.xlsx', '6.xlsx']\n",
            "4.xlsx\n",
            "Index(['road', 'distance(meters)', 'distance_label', 'duration(minutes)',\n",
            "       'duration_min(minutes)', 'duration_max(minutes)', 'origin_coordinates',\n",
            "       'road_distance_timing(meters:seconds)', 'origin', 'destination',\n",
            "       'destination_coordinates', 'query_origin', 'query_destination',\n",
            "       'timestamp', 'datetime_utc', 'Intersections', 'Public Places', 'Ways'],\n",
            "      dtype='object')\n",
            "3.xlsx\n",
            "Index(['road', 'distance(meters)', 'distance_label', 'duration(minutes)',\n",
            "       'duration_min(minutes)', 'duration_max(minutes)', 'origin_coordinates',\n",
            "       'road_distance_timing(meters:seconds)', 'origin', 'destination',\n",
            "       'destination_coordinates', 'query_origin', 'query_destination',\n",
            "       'timestamp', 'datetime_utc', 'Intersections', 'Public Places', 'Ways'],\n",
            "      dtype='object')\n",
            "2.xlsx\n",
            "Index(['road', 'distance(meters)', 'distance_label', 'duration(minutes)',\n",
            "       'duration_min(minutes)', 'duration_max(minutes)', 'origin_coordinates',\n",
            "       'road_distance_timing(meters:seconds)', 'origin', 'destination',\n",
            "       'destination_coordinates', 'query_origin', 'query_destination',\n",
            "       'timestamp', 'datetime_utc', 'Intersections', 'Public Places', 'Ways'],\n",
            "      dtype='object')\n",
            "1.xlsx\n",
            "Index(['road', 'distance(meters)', 'distance_label', 'duration(minutes)',\n",
            "       'duration_min(minutes)', 'duration_max(minutes)', 'origin_coordinates',\n",
            "       'road_distance_timing(meters:seconds)', 'origin', 'destination',\n",
            "       'destination_coordinates', 'query_origin', 'query_destination',\n",
            "       'timestamp', 'datetime_utc', 'Intersections', 'Public Places', 'Ways'],\n",
            "      dtype='object')\n",
            "8.xlsx\n",
            "Index(['road', 'distance(meters)', 'distance_label', 'duration(minutes)',\n",
            "       'duration_min(minutes)', 'duration_max(minutes)', 'origin_coordinates',\n",
            "       'road_distance_timing(meters:seconds)', 'origin', 'destination',\n",
            "       'destination_coordinates', 'query_origin', 'query_destination',\n",
            "       'timestamp', 'datetime_utc', 'Intersections', 'Public Places', 'Ways'],\n",
            "      dtype='object')\n",
            "9.xlsx\n",
            "Index(['road', 'distance(meters)', 'distance_label', 'duration(minutes)',\n",
            "       'duration_min(minutes)', 'duration_max(minutes)', 'origin_coordinates',\n",
            "       'road_distance_timing(meters:seconds)', 'origin', 'destination',\n",
            "       'destination_coordinates', 'query_origin', 'query_destination',\n",
            "       'timestamp', 'datetime_utc', 'Intersections', 'Public Places', 'Ways'],\n",
            "      dtype='object')\n",
            "5.xlsx\n",
            "Index(['road', 'distance(meters)', 'distance_label', 'duration(minutes)',\n",
            "       'duration_min(minutes)', 'duration_max(minutes)', 'origin_coordinates',\n",
            "       'road_distance_timing(meters:seconds)', 'origin', 'destination',\n",
            "       'destination_coordinates', 'query_origin', 'query_destination',\n",
            "       'timestamp', 'datetime_utc', 'Intersections', 'Public Places', 'Ways'],\n",
            "      dtype='object')\n",
            "7.xlsx\n",
            "Index(['road', 'distance(meters)', 'distance_label', 'duration(minutes)',\n",
            "       'duration_min(minutes)', 'duration_max(minutes)', 'origin_coordinates',\n",
            "       'road_distance_timing(meters:seconds)', 'origin', 'destination',\n",
            "       'destination_coordinates', 'query_origin', 'query_destination',\n",
            "       'timestamp', 'datetime_utc', 'Intersections', 'Public Places', 'Ways'],\n",
            "      dtype='object')\n"
          ]
        },
        {
          "output_type": "stream",
          "name": "stderr",
          "text": [
            "\r2it [00:01,  1.17it/s]"
          ]
        },
        {
          "output_type": "stream",
          "name": "stdout",
          "text": [
            "6.xlsx\n",
            "Index(['road', 'distance(meters)', 'distance_label', 'duration(minutes)',\n",
            "       'duration_min(minutes)', 'duration_max(minutes)', 'origin_coordinates',\n",
            "       'road_distance_timing(meters:seconds)', 'origin', 'destination',\n",
            "       'destination_coordinates', 'query_origin', 'query_destination',\n",
            "       'timestamp', 'datetime_utc', 'Intersections', 'Public Places', 'Ways'],\n",
            "      dtype='object')\n",
            "/content/drive/MyDrive/Trafficflow data/Vedant [] ['24.xlsx', '18.xlsx', '19.xlsx', '21.xlsx', '22.xlsx', '23.xlsx', '25.xlsx', '26.xlsx', '20.xlsx']\n",
            "24.xlsx\n",
            "Index(['road', 'distance(meters)', 'distance_label', 'duration(minutes)',\n",
            "       'duration_min(minutes)', 'duration_max(minutes)', 'origin_coordinates',\n",
            "       'road_distance_timing(meters:seconds)', 'origin', 'destination',\n",
            "       'destination_coordinates', 'query_origin', 'query_destination',\n",
            "       'timestamp', 'datetime_utc', 'Intersections', 'Public Places', 'Ways'],\n",
            "      dtype='object')\n",
            "18.xlsx\n",
            "Index(['road', 'distance(meters)', 'distance_label', 'duration(minutes)',\n",
            "       'duration_min(minutes)', 'duration_max(minutes)', 'origin_coordinates',\n",
            "       'road_distance_timing(meters:seconds)', 'origin', 'destination',\n",
            "       'destination_coordinates', 'query_origin', 'query_destination',\n",
            "       'timestamp', 'datetime_utc', 'Intersections', 'Public Places', 'Ways'],\n",
            "      dtype='object')\n",
            "19.xlsx\n",
            "Index(['road', 'distance(meters)', 'distance_label', 'duration(minutes)',\n",
            "       'duration_min(minutes)', 'duration_max(minutes)', 'origin_coordinates',\n",
            "       'road_distance_timing(meters:seconds)', 'origin', 'destination',\n",
            "       'destination_coordinates', 'query_origin', 'query_destination',\n",
            "       'timestamp', 'datetime_utc', 'Intersections', 'Public Places', 'Ways'],\n",
            "      dtype='object')\n",
            "21.xlsx\n",
            "Index(['road', 'distance(meters)', 'distance_label', 'duration(minutes)',\n",
            "       'duration_min(minutes)', 'duration_max(minutes)', 'origin_coordinates',\n",
            "       'road_distance_timing(meters:seconds)', 'origin', 'destination',\n",
            "       'destination_coordinates', 'query_origin', 'query_destination',\n",
            "       'timestamp', 'datetime_utc', 'Intersections', 'Public Places', 'Ways'],\n",
            "      dtype='object')\n",
            "22.xlsx\n",
            "Index(['road', 'distance(meters)', 'distance_label', 'duration(minutes)',\n",
            "       'duration_min(minutes)', 'duration_max(minutes)', 'origin_coordinates',\n",
            "       'road_distance_timing(meters:seconds)', 'origin', 'destination',\n",
            "       'destination_coordinates', 'query_origin', 'query_destination',\n",
            "       'timestamp', 'datetime_utc', 'Intersections', 'Public Places', 'Ways'],\n",
            "      dtype='object')\n",
            "23.xlsx\n",
            "Index(['road', 'distance(meters)', 'distance_label', 'duration(minutes)',\n",
            "       'duration_min(minutes)', 'duration_max(minutes)', 'origin_coordinates',\n",
            "       'road_distance_timing(meters:seconds)', 'origin', 'destination',\n",
            "       'destination_coordinates', 'query_origin', 'query_destination',\n",
            "       'timestamp', 'datetime_utc', 'Intersections', 'Public Places', 'Ways'],\n",
            "      dtype='object')\n",
            "25.xlsx\n",
            "Index(['road', 'distance(meters)', 'distance_label', 'duration(minutes)',\n",
            "       'duration_min(minutes)', 'duration_max(minutes)', 'origin_coordinates',\n",
            "       'road_distance_timing(meters:seconds)', 'origin', 'destination',\n",
            "       'destination_coordinates', 'query_origin', 'query_destination',\n",
            "       'timestamp', 'datetime_utc', 'Intersections', 'Public Places', 'Ways'],\n",
            "      dtype='object')\n",
            "26.xlsx\n",
            "Index(['road', 'distance(meters)', 'distance_label', 'duration(minutes)',\n",
            "       'duration_min(minutes)', 'duration_max(minutes)', 'origin_coordinates',\n",
            "       'road_distance_timing(meters:seconds)', 'origin', 'destination',\n",
            "       'destination_coordinates', 'query_origin', 'query_destination',\n",
            "       'timestamp', 'datetime_utc', 'Intersections', 'Public Places', 'Ways'],\n",
            "      dtype='object')\n"
          ]
        },
        {
          "output_type": "stream",
          "name": "stderr",
          "text": [
            "\r3it [00:03,  1.04s/it]"
          ]
        },
        {
          "output_type": "stream",
          "name": "stdout",
          "text": [
            "20.xlsx\n",
            "Index(['road', 'distance(meters)', 'distance_label', 'duration(minutes)',\n",
            "       'duration_min(minutes)', 'duration_max(minutes)', 'origin_coordinates',\n",
            "       'road_distance_timing(meters:seconds)', 'origin', 'destination',\n",
            "       'destination_coordinates', 'query_origin', 'query_destination',\n",
            "       'timestamp', 'datetime_utc', 'Intersections', 'Public Places', 'Ways'],\n",
            "      dtype='object')\n",
            "/content/drive/MyDrive/Trafficflow data/Nishant [] ['27.xlsx', '28.xlsx', '29.xlsx', '30.xlsx', '31.xlsx', '32.xlsx', '33.xlsx', '34.xlsx']\n",
            "27.xlsx\n",
            "Index(['road', 'distance(meters)', 'distance_label', 'duration(minutes)',\n",
            "       'duration_min(minutes)', 'duration_max(minutes)', 'origin_coordinates',\n",
            "       'road_distance_timing(meters:seconds)', 'origin', 'destination',\n",
            "       'destination_coordinates', 'query_origin', 'query_destination',\n",
            "       'timestamp', 'datetime_utc', 'Intersections', 'Ways', 'Public Places'],\n",
            "      dtype='object')\n",
            "28.xlsx\n",
            "Index(['road', 'distance(meters)', 'distance_label', 'duration(minutes)',\n",
            "       'duration_min(minutes)', 'duration_max(minutes)', 'origin_coordinates',\n",
            "       'road_distance_timing(meters:seconds)', 'origin', 'destination',\n",
            "       'destination_coordinates', 'query_origin', 'query_destination',\n",
            "       'timestamp', 'datetime_utc', 'Intersections', 'Ways', 'Public Places'],\n",
            "      dtype='object')\n",
            "29.xlsx\n",
            "Index(['road', 'distance(meters)', 'distance_label', 'duration(minutes)',\n",
            "       'duration_min(minutes)', 'duration_max(minutes)', 'origin_coordinates',\n",
            "       'road_distance_timing(meters:seconds)', 'origin', 'destination',\n",
            "       'destination_coordinates', 'query_origin', 'query_destination',\n",
            "       'timestamp', 'datetime_utc', 'Intersections', 'Ways', 'Public Places'],\n",
            "      dtype='object')\n",
            "30.xlsx\n",
            "Index(['road', 'distance(meters)', 'distance_label', 'duration(minutes)',\n",
            "       'duration_min(minutes)', 'duration_max(minutes)', 'origin_coordinates',\n",
            "       'road_distance_timing(meters:seconds)', 'origin', 'destination',\n",
            "       'destination_coordinates', 'query_origin', 'query_destination',\n",
            "       'timestamp', 'datetime_utc', 'Intersections', 'Ways', 'Public Places'],\n",
            "      dtype='object')\n",
            "31.xlsx\n",
            "Index(['road', 'distance(meters)', 'distance_label', 'duration(minutes)',\n",
            "       'duration_min(minutes)', 'duration_max(minutes)', 'origin_coordinates',\n",
            "       'road_distance_timing(meters:seconds)', 'origin', 'destination',\n",
            "       'destination_coordinates', 'query_origin', 'query_destination',\n",
            "       'timestamp', 'datetime_utc', 'Intersections', 'Ways', 'Public Places'],\n",
            "      dtype='object')\n",
            "32.xlsx\n",
            "Index(['road', 'distance(meters)', 'distance_label', 'duration(minutes)',\n",
            "       'duration_min(minutes)', 'duration_max(minutes)', 'origin_coordinates',\n",
            "       'road_distance_timing(meters:seconds)', 'origin', 'destination',\n",
            "       'destination_coordinates', 'query_origin', 'query_destination',\n",
            "       'timestamp', 'datetime_utc', 'Intersections', 'Ways', 'Public Places'],\n",
            "      dtype='object')\n",
            "33.xlsx\n",
            "Index(['road', 'distance(meters)', 'distance_label', 'duration(minutes)',\n",
            "       'duration_min(minutes)', 'duration_max(minutes)', 'origin_coordinates',\n",
            "       'road_distance_timing(meters:seconds)', 'origin', 'destination',\n",
            "       'destination_coordinates', 'query_origin', 'query_destination',\n",
            "       'timestamp', 'datetime_utc', 'Intersections', 'Ways', 'Public Places'],\n",
            "      dtype='object')\n"
          ]
        },
        {
          "output_type": "stream",
          "name": "stderr",
          "text": [
            "\r4it [00:04,  1.05s/it]"
          ]
        },
        {
          "output_type": "stream",
          "name": "stdout",
          "text": [
            "34.xlsx\n",
            "Index(['road', 'distance(meters)', 'distance_label', 'duration(minutes)',\n",
            "       'duration_min(minutes)', 'duration_max(minutes)', 'origin_coordinates',\n",
            "       'road_distance_timing(meters:seconds)', 'origin', 'destination',\n",
            "       'destination_coordinates', 'query_origin', 'query_destination',\n",
            "       'timestamp', 'datetime_utc', 'Intersections', 'Ways', 'Public Places'],\n",
            "      dtype='object')\n",
            "/content/drive/MyDrive/Trafficflow data/Gaurav [] ['10.xlsx', '17.xlsx', '11.xlsx', '12.xlsx', '13.xlsx', '14.xlsx', '15.xlsx', '16.xlsx']\n",
            "10.xlsx\n",
            "Index(['road', 'distance(meters)', 'distance_label', 'duration(minutes)',\n",
            "       'duration_min(minutes)', 'duration_max(minutes)', 'origin_coordinates',\n",
            "       'road_distance_timing(meters:seconds)', 'origin', 'destination',\n",
            "       'destination_coordinates', 'query_origin', 'query_destination',\n",
            "       'timestamp', 'datetime_utc', 'Intersections', 'Ways', 'Public Places'],\n",
            "      dtype='object')\n",
            "17.xlsx\n",
            "Index(['road', 'distance(meters)', 'distance_label', 'duration(minutes)',\n",
            "       'duration_min(minutes)', 'duration_max(minutes)', 'origin_coordinates',\n",
            "       'road_distance_timing(meters:seconds)', 'origin', 'destination',\n",
            "       'destination_coordinates', 'query_origin', 'query_destination',\n",
            "       'timestamp', 'datetime_utc', 'Intersections', 'Ways', 'Public Places'],\n",
            "      dtype='object')\n",
            "11.xlsx\n",
            "Index(['road', 'distance(meters)', 'distance_label', 'duration(minutes)',\n",
            "       'duration_min(minutes)', 'duration_max(minutes)', 'origin_coordinates',\n",
            "       'road_distance_timing(meters:seconds)', 'origin', 'destination',\n",
            "       'destination_coordinates', 'query_origin', 'query_destination',\n",
            "       'timestamp', 'datetime_utc', 'Intersections', 'Ways', 'Public Places'],\n",
            "      dtype='object')\n",
            "12.xlsx\n",
            "Index(['road', 'distance(meters)', 'distance_label', 'duration(minutes)',\n",
            "       'duration_min(minutes)', 'duration_max(minutes)', 'origin_coordinates',\n",
            "       'road_distance_timing(meters:seconds)', 'origin', 'destination',\n",
            "       'destination_coordinates', 'query_origin', 'query_destination',\n",
            "       'timestamp', 'datetime_utc', 'Intersections', 'Ways', 'Public Places'],\n",
            "      dtype='object')\n",
            "13.xlsx\n",
            "Index(['road', 'distance(meters)', 'distance_label', 'duration(minutes)',\n",
            "       'duration_min(minutes)', 'duration_max(minutes)', 'origin_coordinates',\n",
            "       'road_distance_timing(meters:seconds)', 'origin', 'destination',\n",
            "       'destination_coordinates', 'query_origin', 'query_destination',\n",
            "       'timestamp', 'datetime_utc', 'Intersections', 'Ways', 'Public Places'],\n",
            "      dtype='object')\n",
            "14.xlsx\n",
            "Index(['road', 'distance(meters)', 'distance_label', 'duration(minutes)',\n",
            "       'duration_min(minutes)', 'duration_max(minutes)', 'origin_coordinates',\n",
            "       'road_distance_timing(meters:seconds)', 'origin', 'destination',\n",
            "       'destination_coordinates', 'query_origin', 'query_destination',\n",
            "       'timestamp', 'datetime_utc', 'Intersections', 'Ways', 'Public Places'],\n",
            "      dtype='object')\n",
            "15.xlsx\n",
            "Index(['road', 'distance(meters)', 'distance_label', 'duration(minutes)',\n",
            "       'duration_min(minutes)', 'duration_max(minutes)', 'origin_coordinates',\n",
            "       'road_distance_timing(meters:seconds)', 'origin', 'destination',\n",
            "       'destination_coordinates', 'query_origin', 'query_destination',\n",
            "       'timestamp', 'datetime_utc', 'Intersections', 'Ways', 'Public Places'],\n",
            "      dtype='object')\n"
          ]
        },
        {
          "output_type": "stream",
          "name": "stderr",
          "text": [
            "5it [00:04,  1.03it/s]"
          ]
        },
        {
          "output_type": "stream",
          "name": "stdout",
          "text": [
            "16.xlsx\n",
            "Index(['road', 'distance(meters)', 'distance_label', 'duration(minutes)',\n",
            "       'duration_min(minutes)', 'duration_max(minutes)', 'origin_coordinates',\n",
            "       'road_distance_timing(meters:seconds)', 'origin', 'destination',\n",
            "       'destination_coordinates', 'query_origin', 'query_destination',\n",
            "       'timestamp', 'datetime_utc', 'Intersections', 'Ways', 'Public Places'],\n",
            "      dtype='object')\n"
          ]
        },
        {
          "output_type": "stream",
          "name": "stderr",
          "text": [
            "\n"
          ]
        }
      ]
    },
    {
      "cell_type": "code",
      "metadata": {
        "colab": {
          "base_uri": "https://localhost:8080/"
        },
        "id": "6I_PlI7OywIT",
        "outputId": "b5393916-5faa-4603-8e2d-14893ff514f4"
      },
      "source": [
        "df1['Congestion'].value_counts()"
      ],
      "execution_count": null,
      "outputs": [
        {
          "output_type": "execute_result",
          "data": {
            "text/plain": [
              "0    8941\n",
              "1    7994\n",
              "2    3585\n",
              "Name: Congestion, dtype: int64"
            ]
          },
          "metadata": {},
          "execution_count": 7
        }
      ]
    },
    {
      "cell_type": "code",
      "metadata": {
        "colab": {
          "base_uri": "https://localhost:8080/",
          "height": 496
        },
        "id": "_CPf0IkPVqcy",
        "outputId": "5b9dedb7-ce56-4494-a0a7-a25a3cb5725b"
      },
      "source": [
        "df1.head()"
      ],
      "execution_count": null,
      "outputs": [
        {
          "output_type": "execute_result",
          "data": {
            "text/html": [
              "<div>\n",
              "<style scoped>\n",
              "    .dataframe tbody tr th:only-of-type {\n",
              "        vertical-align: middle;\n",
              "    }\n",
              "\n",
              "    .dataframe tbody tr th {\n",
              "        vertical-align: top;\n",
              "    }\n",
              "\n",
              "    .dataframe thead th {\n",
              "        text-align: right;\n",
              "    }\n",
              "</style>\n",
              "<table border=\"1\" class=\"dataframe\">\n",
              "  <thead>\n",
              "    <tr style=\"text-align: right;\">\n",
              "      <th></th>\n",
              "      <th>road</th>\n",
              "      <th>distance(meters)</th>\n",
              "      <th>distance_label</th>\n",
              "      <th>duration(minutes)</th>\n",
              "      <th>duration_min(minutes)</th>\n",
              "      <th>duration_max(minutes)</th>\n",
              "      <th>origin_coordinates</th>\n",
              "      <th>road_distance_timing(meters:seconds)</th>\n",
              "      <th>origin</th>\n",
              "      <th>destination</th>\n",
              "      <th>destination_coordinates</th>\n",
              "      <th>query_origin</th>\n",
              "      <th>query_destination</th>\n",
              "      <th>timestamp</th>\n",
              "      <th>datetime_utc</th>\n",
              "      <th>Intersections</th>\n",
              "      <th>Public Places</th>\n",
              "      <th>Ways</th>\n",
              "      <th>Speed(m/s)</th>\n",
              "      <th>Congestion</th>\n",
              "    </tr>\n",
              "  </thead>\n",
              "  <tbody>\n",
              "    <tr>\n",
              "      <th>0</th>\n",
              "      <td>GD Ambekar Marg/Katrak Rd</td>\n",
              "      <td>831</td>\n",
              "      <td>850 m</td>\n",
              "      <td>4</td>\n",
              "      <td>2</td>\n",
              "      <td>5</td>\n",
              "      <td>19.005832899999998, 72.846137</td>\n",
              "      <td>{0: 0, 169: 38, 241: 52, 371: 80, 563: 116, 63...</td>\n",
              "      <td>19.005832926471925, 72.84613696781575</td>\n",
              "      <td>19.01261988327652, 72.84924044245552</td>\n",
              "      <td>19.0126199, 72.8492404</td>\n",
              "      <td>19.005832926471925, 72.84613696781575</td>\n",
              "      <td>19.01261988327652, 72.84924044245552</td>\n",
              "      <td>1625077800</td>\n",
              "      <td>06/30/2021 18:30:00</td>\n",
              "      <td>2</td>\n",
              "      <td>5</td>\n",
              "      <td>2</td>\n",
              "      <td>3.957143</td>\n",
              "      <td>1</td>\n",
              "    </tr>\n",
              "    <tr>\n",
              "      <th>1</th>\n",
              "      <td>GD Ambekar Marg/Katrak Rd</td>\n",
              "      <td>831</td>\n",
              "      <td>850 m</td>\n",
              "      <td>3</td>\n",
              "      <td>2</td>\n",
              "      <td>5</td>\n",
              "      <td>19.005832899999998, 72.846137</td>\n",
              "      <td>{0: 0, 169: 38, 241: 53, 371: 79, 634: 126, 74...</td>\n",
              "      <td>19.005832926471925, 72.84613696781575</td>\n",
              "      <td>19.01261988327652, 72.84924044245552</td>\n",
              "      <td>19.0126199, 72.8492404</td>\n",
              "      <td>19.005832926471925, 72.84613696781575</td>\n",
              "      <td>19.01261988327652, 72.84924044245552</td>\n",
              "      <td>1625081400</td>\n",
              "      <td>06/30/2021 19:30:00</td>\n",
              "      <td>2</td>\n",
              "      <td>5</td>\n",
              "      <td>2</td>\n",
              "      <td>3.957143</td>\n",
              "      <td>1</td>\n",
              "    </tr>\n",
              "    <tr>\n",
              "      <th>2</th>\n",
              "      <td>GD Ambekar Marg/Katrak Rd</td>\n",
              "      <td>831</td>\n",
              "      <td>850 m</td>\n",
              "      <td>3</td>\n",
              "      <td>2</td>\n",
              "      <td>5</td>\n",
              "      <td>19.005832899999998, 72.846137</td>\n",
              "      <td>{0: 0, 169: 35, 241: 51, 563: 112, 634: 124, 7...</td>\n",
              "      <td>19.005832926471925, 72.84613696781575</td>\n",
              "      <td>19.01261988327652, 72.84924044245552</td>\n",
              "      <td>19.0126199, 72.8492404</td>\n",
              "      <td>19.005832926471925, 72.84613696781575</td>\n",
              "      <td>19.01261988327652, 72.84924044245552</td>\n",
              "      <td>1625085000</td>\n",
              "      <td>06/30/2021 20:30:00</td>\n",
              "      <td>2</td>\n",
              "      <td>5</td>\n",
              "      <td>2</td>\n",
              "      <td>3.957143</td>\n",
              "      <td>1</td>\n",
              "    </tr>\n",
              "    <tr>\n",
              "      <th>3</th>\n",
              "      <td>GD Ambekar Marg/Katrak Rd</td>\n",
              "      <td>831</td>\n",
              "      <td>850 m</td>\n",
              "      <td>3</td>\n",
              "      <td>2</td>\n",
              "      <td>4</td>\n",
              "      <td>19.005832899999998, 72.846137</td>\n",
              "      <td>{0: 0, 169: 32, 371: 68, 563: 99, 634: 110, 74...</td>\n",
              "      <td>19.005832926471925, 72.84613696781575</td>\n",
              "      <td>19.01261988327652, 72.84924044245552</td>\n",
              "      <td>19.0126199, 72.8492404</td>\n",
              "      <td>19.005832926471925, 72.84613696781575</td>\n",
              "      <td>19.01261988327652, 72.84924044245552</td>\n",
              "      <td>1625088600</td>\n",
              "      <td>06/30/2021 21:30:00</td>\n",
              "      <td>2</td>\n",
              "      <td>5</td>\n",
              "      <td>2</td>\n",
              "      <td>4.616667</td>\n",
              "      <td>0</td>\n",
              "    </tr>\n",
              "    <tr>\n",
              "      <th>4</th>\n",
              "      <td>GD Ambekar Marg/Katrak Rd</td>\n",
              "      <td>831</td>\n",
              "      <td>850 m</td>\n",
              "      <td>3</td>\n",
              "      <td>2</td>\n",
              "      <td>4</td>\n",
              "      <td>19.005832899999998, 72.846137</td>\n",
              "      <td>{0: 0, 169: 33, 241: 47, 371: 69, 563: 99, 576...</td>\n",
              "      <td>19.005832926471925, 72.84613696781575</td>\n",
              "      <td>19.01261988327652, 72.84924044245552</td>\n",
              "      <td>19.0126199, 72.8492404</td>\n",
              "      <td>19.005832926471925, 72.84613696781575</td>\n",
              "      <td>19.01261988327652, 72.84924044245552</td>\n",
              "      <td>1625092200</td>\n",
              "      <td>06/30/2021 22:30:00</td>\n",
              "      <td>2</td>\n",
              "      <td>5</td>\n",
              "      <td>2</td>\n",
              "      <td>4.616667</td>\n",
              "      <td>0</td>\n",
              "    </tr>\n",
              "  </tbody>\n",
              "</table>\n",
              "</div>"
            ],
            "text/plain": [
              "                        road  distance(meters)  ... Speed(m/s)  Congestion\n",
              "0  GD Ambekar Marg/Katrak Rd               831  ...   3.957143           1\n",
              "1  GD Ambekar Marg/Katrak Rd               831  ...   3.957143           1\n",
              "2  GD Ambekar Marg/Katrak Rd               831  ...   3.957143           1\n",
              "3  GD Ambekar Marg/Katrak Rd               831  ...   4.616667           0\n",
              "4  GD Ambekar Marg/Katrak Rd               831  ...   4.616667           0\n",
              "\n",
              "[5 rows x 20 columns]"
            ]
          },
          "metadata": {},
          "execution_count": 8
        }
      ]
    },
    {
      "cell_type": "code",
      "metadata": {
        "id": "9La9GOu5z3wn"
      },
      "source": [
        "df1.to_csv(os.path.join(root_dir , 'dataset.csv'))"
      ],
      "execution_count": null,
      "outputs": []
    },
    {
      "cell_type": "code",
      "metadata": {
        "colab": {
          "base_uri": "https://localhost:8080/",
          "height": 350
        },
        "id": "4pn2YKw5zHYm",
        "outputId": "a9470e4b-b783-418c-c30f-1585d5153809"
      },
      "source": [
        "sns.countplot('Congestion' , data = df1)"
      ],
      "execution_count": null,
      "outputs": [
        {
          "output_type": "stream",
          "name": "stderr",
          "text": [
            "/usr/local/lib/python3.7/dist-packages/seaborn/_decorators.py:43: FutureWarning: Pass the following variable as a keyword arg: x. From version 0.12, the only valid positional argument will be `data`, and passing other arguments without an explicit keyword will result in an error or misinterpretation.\n",
            "  FutureWarning\n"
          ]
        },
        {
          "output_type": "execute_result",
          "data": {
            "text/plain": [
              "<matplotlib.axes._subplots.AxesSubplot at 0x7f918f2f1bd0>"
            ]
          },
          "metadata": {},
          "execution_count": 10
        },
        {
          "output_type": "display_data",
          "data": {
            "image/png": "[encoded data removed]",
            "text/plain": [
              "<Figure size 432x288 with 1 Axes>"
            ]
          },
          "metadata": {
            "needs_background": "light"
          }
        }
      ]
    },
    {
      "cell_type": "code",
      "metadata": {
        "colab": {
          "base_uri": "https://localhost:8080/",
          "height": 496
        },
        "id": "VPrM4N9fWvqK",
        "outputId": "4fba98d5-c47c-46db-d8a2-6ca87135b2da"
      },
      "source": [
        "df = pd.read_csv('/content/drive/MyDrive/Trafficflow data/dataset.csv' , index_col = 0)\n",
        "df.head()"
      ],
      "execution_count": null,
      "outputs": [
        {
          "output_type": "execute_result",
          "data": {
            "text/html": [
              "<div>\n",
              "<style scoped>\n",
              "    .dataframe tbody tr th:only-of-type {\n",
              "        vertical-align: middle;\n",
              "    }\n",
              "\n",
              "    .dataframe tbody tr th {\n",
              "        vertical-align: top;\n",
              "    }\n",
              "\n",
              "    .dataframe thead th {\n",
              "        text-align: right;\n",
              "    }\n",
              "</style>\n",
              "<table border=\"1\" class=\"dataframe\">\n",
              "  <thead>\n",
              "    <tr style=\"text-align: right;\">\n",
              "      <th></th>\n",
              "      <th>road</th>\n",
              "      <th>distance(meters)</th>\n",
              "      <th>distance_label</th>\n",
              "      <th>duration(minutes)</th>\n",
              "      <th>duration_min(minutes)</th>\n",
              "      <th>duration_max(minutes)</th>\n",
              "      <th>origin_coordinates</th>\n",
              "      <th>road_distance_timing(meters:seconds)</th>\n",
              "      <th>origin</th>\n",
              "      <th>destination</th>\n",
              "      <th>destination_coordinates</th>\n",
              "      <th>query_origin</th>\n",
              "      <th>query_destination</th>\n",
              "      <th>timestamp</th>\n",
              "      <th>datetime_utc</th>\n",
              "      <th>Intersections</th>\n",
              "      <th>Public Places</th>\n",
              "      <th>Ways</th>\n",
              "      <th>Speed(m/s)</th>\n",
              "      <th>Congestion</th>\n",
              "      <th>Unnamed: 15</th>\n",
              "      <th>intersection</th>\n",
              "      <th>ways</th>\n",
              "      <th>public places</th>\n",
              "    </tr>\n",
              "  </thead>\n",
              "  <tbody>\n",
              "    <tr>\n",
              "      <th>0</th>\n",
              "      <td>GD Ambekar Marg/Katrak Rd</td>\n",
              "      <td>831</td>\n",
              "      <td>850 m</td>\n",
              "      <td>4</td>\n",
              "      <td>2</td>\n",
              "      <td>5</td>\n",
              "      <td>19.005832899999998, 72.846137</td>\n",
              "      <td>{0: 0, 169: 38, 241: 52, 371: 80, 563: 116, 63...</td>\n",
              "      <td>19.005832926471925, 72.84613696781575</td>\n",
              "      <td>19.01261988327652, 72.84924044245552</td>\n",
              "      <td>19.0126199, 72.8492404</td>\n",
              "      <td>19.005832926471925, 72.84613696781575</td>\n",
              "      <td>19.01261988327652, 72.84924044245552</td>\n",
              "      <td>1625077800</td>\n",
              "      <td>06/30/2021 18:30:00</td>\n",
              "      <td>2.0</td>\n",
              "      <td>5.0</td>\n",
              "      <td>2.0</td>\n",
              "      <td>39.571429</td>\n",
              "      <td>0</td>\n",
              "      <td>NaN</td>\n",
              "      <td>NaN</td>\n",
              "      <td>NaN</td>\n",
              "      <td>NaN</td>\n",
              "    </tr>\n",
              "    <tr>\n",
              "      <th>1</th>\n",
              "      <td>GD Ambekar Marg/Katrak Rd</td>\n",
              "      <td>831</td>\n",
              "      <td>850 m</td>\n",
              "      <td>3</td>\n",
              "      <td>2</td>\n",
              "      <td>5</td>\n",
              "      <td>19.005832899999998, 72.846137</td>\n",
              "      <td>{0: 0, 169: 38, 241: 53, 371: 79, 634: 126, 74...</td>\n",
              "      <td>19.005832926471925, 72.84613696781575</td>\n",
              "      <td>19.01261988327652, 72.84924044245552</td>\n",
              "      <td>19.0126199, 72.8492404</td>\n",
              "      <td>19.005832926471925, 72.84613696781575</td>\n",
              "      <td>19.01261988327652, 72.84924044245552</td>\n",
              "      <td>1625081400</td>\n",
              "      <td>06/30/2021 19:30:00</td>\n",
              "      <td>2.0</td>\n",
              "      <td>5.0</td>\n",
              "      <td>2.0</td>\n",
              "      <td>39.571429</td>\n",
              "      <td>0</td>\n",
              "      <td>NaN</td>\n",
              "      <td>NaN</td>\n",
              "      <td>NaN</td>\n",
              "      <td>NaN</td>\n",
              "    </tr>\n",
              "    <tr>\n",
              "      <th>2</th>\n",
              "      <td>GD Ambekar Marg/Katrak Rd</td>\n",
              "      <td>831</td>\n",
              "      <td>850 m</td>\n",
              "      <td>3</td>\n",
              "      <td>2</td>\n",
              "      <td>5</td>\n",
              "      <td>19.005832899999998, 72.846137</td>\n",
              "      <td>{0: 0, 169: 35, 241: 51, 563: 112, 634: 124, 7...</td>\n",
              "      <td>19.005832926471925, 72.84613696781575</td>\n",
              "      <td>19.01261988327652, 72.84924044245552</td>\n",
              "      <td>19.0126199, 72.8492404</td>\n",
              "      <td>19.005832926471925, 72.84613696781575</td>\n",
              "      <td>19.01261988327652, 72.84924044245552</td>\n",
              "      <td>1625085000</td>\n",
              "      <td>06/30/2021 20:30:00</td>\n",
              "      <td>2.0</td>\n",
              "      <td>5.0</td>\n",
              "      <td>2.0</td>\n",
              "      <td>39.571429</td>\n",
              "      <td>0</td>\n",
              "      <td>NaN</td>\n",
              "      <td>NaN</td>\n",
              "      <td>NaN</td>\n",
              "      <td>NaN</td>\n",
              "    </tr>\n",
              "    <tr>\n",
              "      <th>3</th>\n",
              "      <td>GD Ambekar Marg/Katrak Rd</td>\n",
              "      <td>831</td>\n",
              "      <td>850 m</td>\n",
              "      <td>3</td>\n",
              "      <td>2</td>\n",
              "      <td>4</td>\n",
              "      <td>19.005832899999998, 72.846137</td>\n",
              "      <td>{0: 0, 169: 32, 371: 68, 563: 99, 634: 110, 74...</td>\n",
              "      <td>19.005832926471925, 72.84613696781575</td>\n",
              "      <td>19.01261988327652, 72.84924044245552</td>\n",
              "      <td>19.0126199, 72.8492404</td>\n",
              "      <td>19.005832926471925, 72.84613696781575</td>\n",
              "      <td>19.01261988327652, 72.84924044245552</td>\n",
              "      <td>1625088600</td>\n",
              "      <td>06/30/2021 21:30:00</td>\n",
              "      <td>2.0</td>\n",
              "      <td>5.0</td>\n",
              "      <td>2.0</td>\n",
              "      <td>46.166667</td>\n",
              "      <td>0</td>\n",
              "      <td>NaN</td>\n",
              "      <td>NaN</td>\n",
              "      <td>NaN</td>\n",
              "      <td>NaN</td>\n",
              "    </tr>\n",
              "    <tr>\n",
              "      <th>4</th>\n",
              "      <td>GD Ambekar Marg/Katrak Rd</td>\n",
              "      <td>831</td>\n",
              "      <td>850 m</td>\n",
              "      <td>3</td>\n",
              "      <td>2</td>\n",
              "      <td>4</td>\n",
              "      <td>19.005832899999998, 72.846137</td>\n",
              "      <td>{0: 0, 169: 33, 241: 47, 371: 69, 563: 99, 576...</td>\n",
              "      <td>19.005832926471925, 72.84613696781575</td>\n",
              "      <td>19.01261988327652, 72.84924044245552</td>\n",
              "      <td>19.0126199, 72.8492404</td>\n",
              "      <td>19.005832926471925, 72.84613696781575</td>\n",
              "      <td>19.01261988327652, 72.84924044245552</td>\n",
              "      <td>1625092200</td>\n",
              "      <td>06/30/2021 22:30:00</td>\n",
              "      <td>2.0</td>\n",
              "      <td>5.0</td>\n",
              "      <td>2.0</td>\n",
              "      <td>46.166667</td>\n",
              "      <td>0</td>\n",
              "      <td>NaN</td>\n",
              "      <td>NaN</td>\n",
              "      <td>NaN</td>\n",
              "      <td>NaN</td>\n",
              "    </tr>\n",
              "  </tbody>\n",
              "</table>\n",
              "</div>"
            ],
            "text/plain": [
              "                        road  distance(meters)  ... ways  public places\n",
              "0  GD Ambekar Marg/Katrak Rd               831  ...  NaN            NaN\n",
              "1  GD Ambekar Marg/Katrak Rd               831  ...  NaN            NaN\n",
              "2  GD Ambekar Marg/Katrak Rd               831  ...  NaN            NaN\n",
              "3  GD Ambekar Marg/Katrak Rd               831  ...  NaN            NaN\n",
              "4  GD Ambekar Marg/Katrak Rd               831  ...  NaN            NaN\n",
              "\n",
              "[5 rows x 24 columns]"
            ]
          },
          "metadata": {},
          "execution_count": 5
        }
      ]
    },
    {
      "cell_type": "code",
      "metadata": {
        "colab": {
          "base_uri": "https://localhost:8080/"
        },
        "id": "MXxxAkljMrnS",
        "outputId": "00f415c5-1737-4cac-cf19-799a7e858ddd"
      },
      "source": [
        "df.shape"
      ],
      "execution_count": null,
      "outputs": [
        {
          "output_type": "execute_result",
          "data": {
            "text/plain": [
              "(20520, 24)"
            ]
          },
          "metadata": {},
          "execution_count": 6
        }
      ]
    },
    {
      "cell_type": "markdown",
      "metadata": {
        "id": "31mcNjIjX0EH"
      },
      "source": [
        "**Creating Class**"
      ]
    },
    {
      "cell_type": "code",
      "metadata": {
        "id": "OX7cThw8Xe-g"
      },
      "source": [
        "speed = []\n",
        "for index , row in df.iterrows():\n",
        "  speed.append((row['distance(meters)'])/(((row['duration_min(minutes)']+row['duration_max(minutes)'])/20.0) * 60))"
      ],
      "execution_count": null,
      "outputs": []
    },
    {
      "cell_type": "code",
      "metadata": {
        "colab": {
          "base_uri": "https://localhost:8080/",
          "height": 394
        },
        "id": "JkYbxEYsYQlZ",
        "outputId": "6f2e9d10-a7a5-4e50-e103-2f8cf3230f03"
      },
      "source": [
        "df['Speed(m/s)'] = speed\n",
        "df.head()"
      ],
      "execution_count": null,
      "outputs": [
        {
          "output_type": "execute_result",
          "data": {
            "text/html": [
              "<div>\n",
              "<style scoped>\n",
              "    .dataframe tbody tr th:only-of-type {\n",
              "        vertical-align: middle;\n",
              "    }\n",
              "\n",
              "    .dataframe tbody tr th {\n",
              "        vertical-align: top;\n",
              "    }\n",
              "\n",
              "    .dataframe thead th {\n",
              "        text-align: right;\n",
              "    }\n",
              "</style>\n",
              "<table border=\"1\" class=\"dataframe\">\n",
              "  <thead>\n",
              "    <tr style=\"text-align: right;\">\n",
              "      <th></th>\n",
              "      <th>road</th>\n",
              "      <th>distance(meters)</th>\n",
              "      <th>distance_label</th>\n",
              "      <th>duration(minutes)</th>\n",
              "      <th>duration_min(minutes)</th>\n",
              "      <th>duration_max(minutes)</th>\n",
              "      <th>origin_coordinates</th>\n",
              "      <th>road_distance_timing(meters:seconds)</th>\n",
              "      <th>origin</th>\n",
              "      <th>destination</th>\n",
              "      <th>destination_coordinates</th>\n",
              "      <th>query_origin</th>\n",
              "      <th>query_destination</th>\n",
              "      <th>timestamp</th>\n",
              "      <th>datetime_utc</th>\n",
              "      <th>Speed(m/s)</th>\n",
              "    </tr>\n",
              "  </thead>\n",
              "  <tbody>\n",
              "    <tr>\n",
              "      <th>0</th>\n",
              "      <td>Dadar TT Flyover/Eastern Express Hwy</td>\n",
              "      <td>636</td>\n",
              "      <td>650 m</td>\n",
              "      <td>1</td>\n",
              "      <td>1</td>\n",
              "      <td>2</td>\n",
              "      <td>19.0178069, 72.847815</td>\n",
              "      <td>{0: 0, 197: 15, 319: 24, 435: 33, 635: 51}</td>\n",
              "      <td>19.017806883251282, 72.84781502259689</td>\n",
              "      <td>19.013083705180144, 72.84442583119865</td>\n",
              "      <td>19.0130837, 72.8444258</td>\n",
              "      <td>19.017806883251282, 72.84781502259689</td>\n",
              "      <td>19.013083705180144, 72.84442583119865</td>\n",
              "      <td>1625077800</td>\n",
              "      <td>06/30/2021 18:30:00</td>\n",
              "      <td>70.666667</td>\n",
              "    </tr>\n",
              "    <tr>\n",
              "      <th>1</th>\n",
              "      <td>Dadar TT Flyover/Eastern Express Hwy</td>\n",
              "      <td>636</td>\n",
              "      <td>650 m</td>\n",
              "      <td>1</td>\n",
              "      <td>1</td>\n",
              "      <td>2</td>\n",
              "      <td>19.0178069, 72.847815</td>\n",
              "      <td>{0: 0, 197: 15, 319: 25, 435: 35, 635: 53}</td>\n",
              "      <td>19.017806883251282, 72.84781502259689</td>\n",
              "      <td>19.013083705180144, 72.84442583119865</td>\n",
              "      <td>19.0130837, 72.8444258</td>\n",
              "      <td>19.017806883251282, 72.84781502259689</td>\n",
              "      <td>19.013083705180144, 72.84442583119865</td>\n",
              "      <td>1625081400</td>\n",
              "      <td>06/30/2021 19:30:00</td>\n",
              "      <td>70.666667</td>\n",
              "    </tr>\n",
              "    <tr>\n",
              "      <th>2</th>\n",
              "      <td>Dadar TT Flyover/Eastern Express Hwy</td>\n",
              "      <td>636</td>\n",
              "      <td>650 m</td>\n",
              "      <td>1</td>\n",
              "      <td>1</td>\n",
              "      <td>2</td>\n",
              "      <td>19.0178069, 72.847815</td>\n",
              "      <td>{0: 0, 197: 16, 319: 26, 435: 36, 635: 55}</td>\n",
              "      <td>19.017806883251282, 72.84781502259689</td>\n",
              "      <td>19.013083705180144, 72.84442583119865</td>\n",
              "      <td>19.0130837, 72.8444258</td>\n",
              "      <td>19.017806883251282, 72.84781502259689</td>\n",
              "      <td>19.013083705180144, 72.84442583119865</td>\n",
              "      <td>1625085000</td>\n",
              "      <td>06/30/2021 20:30:00</td>\n",
              "      <td>70.666667</td>\n",
              "    </tr>\n",
              "    <tr>\n",
              "      <th>3</th>\n",
              "      <td>Dadar TT Flyover/Eastern Express Hwy</td>\n",
              "      <td>636</td>\n",
              "      <td>650 m</td>\n",
              "      <td>1</td>\n",
              "      <td>1</td>\n",
              "      <td>2</td>\n",
              "      <td>19.0178069, 72.847815</td>\n",
              "      <td>{0: 0, 197: 15, 319: 25, 435: 34, 635: 52}</td>\n",
              "      <td>19.017806883251282, 72.84781502259689</td>\n",
              "      <td>19.013083705180144, 72.84442583119865</td>\n",
              "      <td>19.0130837, 72.8444258</td>\n",
              "      <td>19.017806883251282, 72.84781502259689</td>\n",
              "      <td>19.013083705180144, 72.84442583119865</td>\n",
              "      <td>1625088600</td>\n",
              "      <td>06/30/2021 21:30:00</td>\n",
              "      <td>70.666667</td>\n",
              "    </tr>\n",
              "    <tr>\n",
              "      <th>4</th>\n",
              "      <td>Dadar TT Flyover/Eastern Express Hwy</td>\n",
              "      <td>636</td>\n",
              "      <td>650 m</td>\n",
              "      <td>1</td>\n",
              "      <td>1</td>\n",
              "      <td>1</td>\n",
              "      <td>19.0178069, 72.847815</td>\n",
              "      <td>{0: 0, 197: 13, 319: 22, 435: 30, 635: 47}</td>\n",
              "      <td>19.017806883251282, 72.84781502259689</td>\n",
              "      <td>19.013083705180144, 72.84442583119865</td>\n",
              "      <td>19.0130837, 72.8444258</td>\n",
              "      <td>19.017806883251282, 72.84781502259689</td>\n",
              "      <td>19.013083705180144, 72.84442583119865</td>\n",
              "      <td>1625092200</td>\n",
              "      <td>06/30/2021 22:30:00</td>\n",
              "      <td>106.000000</td>\n",
              "    </tr>\n",
              "  </tbody>\n",
              "</table>\n",
              "</div>"
            ],
            "text/plain": [
              "                                   road  ...  Speed(m/s)\n",
              "0  Dadar TT Flyover/Eastern Express Hwy  ...   70.666667\n",
              "1  Dadar TT Flyover/Eastern Express Hwy  ...   70.666667\n",
              "2  Dadar TT Flyover/Eastern Express Hwy  ...   70.666667\n",
              "3  Dadar TT Flyover/Eastern Express Hwy  ...   70.666667\n",
              "4  Dadar TT Flyover/Eastern Express Hwy  ...  106.000000\n",
              "\n",
              "[5 rows x 16 columns]"
            ]
          },
          "metadata": {},
          "execution_count": 6
        }
      ]
    },
    {
      "cell_type": "code",
      "metadata": {
        "colab": {
          "base_uri": "https://localhost:8080/"
        },
        "id": "SILhRu_938Rm",
        "outputId": "e5861996-1edd-4d4c-9fd1-541639199b78"
      },
      "source": [
        "max(df['Speed(m/s)'\n",
        "])"
      ],
      "execution_count": null,
      "outputs": [
        {
          "output_type": "execute_result",
          "data": {
            "text/plain": [
              "106.0"
            ]
          },
          "metadata": {},
          "execution_count": 10
        }
      ]
    },
    {
      "cell_type": "code",
      "metadata": {
        "colab": {
          "base_uri": "https://localhost:8080/"
        },
        "id": "WGyJLNYGYXZR",
        "outputId": "40f8eeac-6602-41b8-83f0-f613f7f5f5c4"
      },
      "source": [
        "print('Average Speed : {}'.format(np.mean(df['Speed(m/s)'])))\n",
        "print('Standard Deviation : {}'.format(np.std(df['Speed(m/s)'])))"
      ],
      "execution_count": null,
      "outputs": [
        {
          "output_type": "stream",
          "name": "stdout",
          "text": [
            "Average Speed : 47.48415388795548\n",
            "Standard Deviation : 13.658529270173803\n"
          ]
        }
      ]
    },
    {
      "cell_type": "code",
      "metadata": {
        "colab": {
          "base_uri": "https://localhost:8080/"
        },
        "id": "ysik8oyx4VFw",
        "outputId": "7d5da561-c65d-4f67-82ed-65a2e468ef55"
      },
      "source": [
        "df['Speed(m/s)'].skew()"
      ],
      "execution_count": null,
      "outputs": [
        {
          "output_type": "execute_result",
          "data": {
            "text/plain": [
              "0.948302919169418"
            ]
          },
          "metadata": {},
          "execution_count": 14
        }
      ]
    },
    {
      "cell_type": "code",
      "metadata": {
        "colab": {
          "base_uri": "https://localhost:8080/",
          "height": 350
        },
        "id": "uUwfTS3i41le",
        "outputId": "9ecaee96-0e7d-4a1e-e1db-c956571dfb3c"
      },
      "source": [
        "sns.distplot(df['Speed(m/s)'])"
      ],
      "execution_count": null,
      "outputs": [
        {
          "output_type": "stream",
          "name": "stderr",
          "text": [
            "/usr/local/lib/python3.7/dist-packages/seaborn/distributions.py:2557: FutureWarning: `distplot` is a deprecated function and will be removed in a future version. Please adapt your code to use either `displot` (a figure-level function with similar flexibility) or `histplot` (an axes-level function for histograms).\n",
            "  warnings.warn(msg, FutureWarning)\n"
          ]
        },
        {
          "output_type": "execute_result",
          "data": {
            "text/plain": [
              "<matplotlib.axes._subplots.AxesSubplot at 0x7f56b91cd2d0>"
            ]
          },
          "metadata": {},
          "execution_count": 16
        },
        {
          "output_type": "display_data",
          "data": {
            "image/png": "[encoded data removed]",
            "text/plain": [
              "<Figure size 432x288 with 1 Axes>"
            ]
          },
          "metadata": {
            "needs_background": "light"
          }
        }
      ]
    },
    {
      "cell_type": "code",
      "metadata": {
        "colab": {
          "base_uri": "https://localhost:8080/"
        },
        "id": "GtGJ28P5ZbYQ",
        "outputId": "368ca194-13f8-4899-a208-005682fccd11"
      },
      "source": [
        "df['Speed(m/s)sqrt'] = df['Speed(m/s)'].apply(lambda x : x**0.5)\n",
        "df['Speed(m/s)sqrt'].skew()"
      ],
      "execution_count": null,
      "outputs": [
        {
          "output_type": "execute_result",
          "data": {
            "text/plain": [
              "0.5436940241628778"
            ]
          },
          "metadata": {},
          "execution_count": 28
        }
      ]
    },
    {
      "cell_type": "code",
      "metadata": {
        "colab": {
          "base_uri": "https://localhost:8080/",
          "height": 350
        },
        "id": "N3SSIkxv8pda",
        "outputId": "18610ef4-38e7-46bf-ec45-a2c13f3a1e78"
      },
      "source": [
        "sns.distplot(df['Speed(m/s)sqrt'])"
      ],
      "execution_count": null,
      "outputs": [
        {
          "output_type": "stream",
          "name": "stderr",
          "text": [
            "/usr/local/lib/python3.7/dist-packages/seaborn/distributions.py:2557: FutureWarning: `distplot` is a deprecated function and will be removed in a future version. Please adapt your code to use either `displot` (a figure-level function with similar flexibility) or `histplot` (an axes-level function for histograms).\n",
            "  warnings.warn(msg, FutureWarning)\n"
          ]
        },
        {
          "output_type": "execute_result",
          "data": {
            "text/plain": [
              "<matplotlib.axes._subplots.AxesSubplot at 0x7f56b8e45710>"
            ]
          },
          "metadata": {},
          "execution_count": 20
        },
        {
          "output_type": "display_data",
          "data": {
            "image/png": "[encoded data removed]",
            "text/plain": [
              "<Figure size 432x288 with 1 Axes>"
            ]
          },
          "metadata": {
            "needs_background": "light"
          }
        }
      ]
    },
    {
      "cell_type": "code",
      "metadata": {
        "colab": {
          "base_uri": "https://localhost:8080/"
        },
        "id": "6v8FjIVA_-Am",
        "outputId": "29ba8003-345f-4ae3-9c45-20de4a8b81f7"
      },
      "source": [
        "df['Speed(m/s)cbrt'] = df['Speed(m/s)'].apply(lambda x : x**(1/3))\n",
        "df['Speed(m/s)cbrt'].skew()"
      ],
      "execution_count": null,
      "outputs": [
        {
          "output_type": "execute_result",
          "data": {
            "text/plain": [
              "0.42407196305982026"
            ]
          },
          "metadata": {},
          "execution_count": 30
        }
      ]
    },
    {
      "cell_type": "code",
      "metadata": {
        "colab": {
          "base_uri": "https://localhost:8080/",
          "height": 353
        },
        "id": "D2erKldhAewV",
        "outputId": "d48f79d0-c429-4e39-e23b-ce9b883412e8"
      },
      "source": [
        "sns.distplot(df['Speed(m/s)cbrt'])"
      ],
      "execution_count": null,
      "outputs": [
        {
          "output_type": "stream",
          "name": "stderr",
          "text": [
            "/usr/local/lib/python3.7/dist-packages/seaborn/distributions.py:2557: FutureWarning: `distplot` is a deprecated function and will be removed in a future version. Please adapt your code to use either `displot` (a figure-level function with similar flexibility) or `histplot` (an axes-level function for histograms).\n",
            "  warnings.warn(msg, FutureWarning)\n"
          ]
        },
        {
          "output_type": "execute_result",
          "data": {
            "text/plain": [
              "<matplotlib.axes._subplots.AxesSubplot at 0x7f56b8d211d0>"
            ]
          },
          "metadata": {},
          "execution_count": 32
        },
        {
          "output_type": "display_data",
          "data": {
            "image/png": "[encoded data removed]",
            "text/plain": [
              "<Figure size 432x288 with 1 Axes>"
            ]
          },
          "metadata": {
            "needs_background": "light"
          }
        }
      ]
    },
    {
      "cell_type": "code",
      "metadata": {
        "colab": {
          "base_uri": "https://localhost:8080/"
        },
        "id": "rC26D_un40jt",
        "outputId": "6c711901-4ec7-4f7b-ebf9-a5f63e3498b4"
      },
      "source": [
        "print('Average Speed of sqrt transformed : {}'.format(np.mean(df['Speed(m/s)sqrt'])))\n",
        "print('Standard Deviation transformed : {}'.format(np.std(df['Speed(m/s)sqrt'])))\n",
        "print('Max of transformer : {}'.format(np.max(df['Speed(m/s)sqrt'])))\n",
        "print('Min of transformer : {}'.format(np.min(df['Speed(m/s)sqrt'])))"
      ],
      "execution_count": null,
      "outputs": [
        {
          "output_type": "stream",
          "name": "stdout",
          "text": [
            "Average Speed of sqrt transformed : 6.823697545159074\n",
            "Standard Deviation transformed : 0.9598467065888484\n",
            "Max of transformer : 10.295630140987\n",
            "Min of transformer : 4.476274906329708\n"
          ]
        }
      ]
    },
    {
      "cell_type": "code",
      "metadata": {
        "colab": {
          "base_uri": "https://localhost:8080/"
        },
        "id": "e4PWvs7DAn75",
        "outputId": "5edfcb8c-2c70-49e7-de94-3b72f4bad340"
      },
      "source": [
        "print('Average Speed of cbrt transformed : {}'.format(np.mean(df['Speed(m/s)cbrt'])))\n",
        "print('Standard Deviation transformed : {}'.format(np.std(df['Speed(m/s)cbrt'])))\n",
        "print('Max of transformer : {}'.format(np.max(df['Speed(m/s)cbrt'])))\n",
        "print('Min of transformer : {}'.format(np.min(df['Speed(m/s)cbrt'])))"
      ],
      "execution_count": null,
      "outputs": [
        {
          "output_type": "stream",
          "name": "stdout",
          "text": [
            "Average Speed of cbrt transformed : 3.589849017379561\n",
            "Standard Deviation transformed : 0.3346135294927189\n",
            "Max of transformer : 4.732623491163368\n",
            "Min of transformer : 2.716092149787421\n"
          ]
        }
      ]
    },
    {
      "cell_type": "code",
      "metadata": {
        "colab": {
          "base_uri": "https://localhost:8080/"
        },
        "id": "VkPsJEHY-ZQ0",
        "outputId": "44ab5bcb-5d50-4108-c20a-5f7f18769991"
      },
      "source": [
        "maximum = np.max(df['Speed(m/s)sqrt'])\n",
        "minimum = np.min(df['Speed(m/s)sqrt'])\n",
        "mean    = np.mean(df['Speed(m/s)sqrt'])\n",
        "std     = np.std(df['Speed(m/s)sqrt'])\n",
        "print('Speed range for Congestion 0 : {} - {}'.format(maximum-2*std , maximum))\n",
        "print('Speed range for Congestion 1 : {} - {}'.format(mean , maximum - 2*std))\n",
        "print('Speed range for Congestion 2 : {} - {}'.format(mean - 2* std , mean))\n",
        "print('Speed range for congestion 3 : {} - {}'.format(minimum , mean-2*std))"
      ],
      "execution_count": null,
      "outputs": [
        {
          "output_type": "stream",
          "name": "stdout",
          "text": [
            "Speed range for Congestion 0 : 8.375936727809304 - 10.295630140987\n",
            "Speed range for Congestion 1 : 6.823697545159074 - 8.375936727809304\n",
            "Speed range for Congestion 2 : 4.9040041319813765 - 6.823697545159074\n",
            "Speed range for congestion 3 : 4.476274906329708 - 4.9040041319813765\n"
          ]
        }
      ]
    },
    {
      "cell_type": "code",
      "metadata": {
        "colab": {
          "base_uri": "https://localhost:8080/"
        },
        "id": "Akqasi6NBBH6",
        "outputId": "f723c91e-0f65-428c-d979-8656e7e8c30d"
      },
      "source": [
        "maximum = np.max(df['Speed(m/s)cbrt'])\n",
        "minimum = np.min(df['Speed(m/s)cbrt'])\n",
        "mean    = np.mean(df['Speed(m/s)cbrt'])\n",
        "std     = np.std(df['Speed(m/s)cbrt'])\n",
        "print('Speed range for Congestion 0 : {} - {}'.format(maximum-2*std , maximum))\n",
        "print('Speed range for Congestion 1 : {} - {}'.format(mean , maximum - 2*std))\n",
        "print('Speed range for Congestion 2 : {} - {}'.format(mean - 2* std , mean))\n",
        "print('Speed range for congestion 3 : {} - {}'.format(minimum , mean-2*std))"
      ],
      "execution_count": null,
      "outputs": [
        {
          "output_type": "stream",
          "name": "stdout",
          "text": [
            "Speed range for Congestion 0 : 4.06339643217793 - 4.732623491163368\n",
            "Speed range for Congestion 1 : 3.589849017379561 - 4.06339643217793\n",
            "Speed range for Congestion 2 : 2.9206219583941233 - 3.589849017379561\n",
            "Speed range for congestion 3 : 2.716092149787421 - 2.9206219583941233\n"
          ]
        }
      ]
    },
    {
      "cell_type": "code",
      "metadata": {
        "colab": {
          "base_uri": "https://localhost:8080/",
          "height": 513
        },
        "id": "fn9CukEFaSwv",
        "outputId": "9b94d16a-590a-400c-b2a4-43654d264d94"
      },
      "source": [
        "legend = ['distribution']\n",
        " \n",
        "# Creating histogram\n",
        "fig, axs = plt.subplots(1, 1,\n",
        "                        figsize =(10, 7),\n",
        "                        tight_layout = True)\n",
        " \n",
        " \n",
        "# Remove axes splines\n",
        "for s in ['top', 'bottom', 'left', 'right']:\n",
        "    axs.spines[s].set_visible(False)\n",
        " \n",
        "# Remove x, y ticks\n",
        "axs.xaxis.set_ticks_position('none')\n",
        "axs.yaxis.set_ticks_position('none')\n",
        "   \n",
        "# Add padding between axes and labels\n",
        "axs.xaxis.set_tick_params(pad = 5)\n",
        "axs.yaxis.set_tick_params(pad = 10)\n",
        " \n",
        "# Add x, y gridlines\n",
        "axs.grid(b = True, color ='grey',\n",
        "        linestyle ='-.', linewidth = 0.5,\n",
        "        alpha = 0.6)\n",
        " \n",
        "# Add Text watermark\n",
        "# fig.text(0.9, 0.15, 'Jeeteshgavande30',\n",
        "#          fontsize = 12,\n",
        "#          color ='red',\n",
        "#          ha ='right',\n",
        "#          va ='bottom',\n",
        "#          alpha = 0.7)\n",
        " \n",
        "# Creating histogram\n",
        "N, bins, patches = axs.hist(df['Speed(m/s)cbrt'])\n",
        " \n",
        "# Setting color\n",
        "fracs = ((N**(1 / 5)) / N.max())\n",
        "norm = colors.Normalize(fracs.min(), fracs.max())\n",
        " \n",
        "for thisfrac, thispatch in zip(fracs, patches):\n",
        "    color = plt.cm.viridis(norm(thisfrac))\n",
        "    thispatch.set_facecolor(color)\n",
        " \n",
        "# Adding extra features   \n",
        "plt.xlabel(\"X-axis\")\n",
        "plt.ylabel(\"y-axis\")\n",
        "plt.legend(legend)\n",
        "plt.title('Customized histogram')\n",
        " \n",
        "# Show plot\n",
        "plt.show()"
      ],
      "execution_count": null,
      "outputs": [
        {
          "output_type": "display_data",
          "data": {
            "image/png": "[encoded data removed]",
            "text/plain": [
              "<Figure size 720x504 with 1 Axes>"
            ]
          },
          "metadata": {
            "needs_background": "light"
          }
        }
      ]
    },
    {
      "cell_type": "code",
      "metadata": {
        "id": "UECtrACTa6io"
      },
      "source": [
        ""
      ],
      "execution_count": null,
      "outputs": []
    },
    {
      "cell_type": "code",
      "metadata": {
        "id": "XXhXZa2b0ztv"
      },
      "source": [
        ""
      ],
      "execution_count": null,
      "outputs": []
    }
  ]
}